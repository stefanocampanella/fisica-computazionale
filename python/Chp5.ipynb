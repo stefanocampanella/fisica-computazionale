{
 "cells": [
  {
   "cell_type": "markdown",
   "metadata": {},
   "source": [
    "## Chapter 5\n",
    "# INTEGRALS AND DERIVATIVES"
   ]
  },
  {
   "cell_type": "code",
   "execution_count": 10,
   "metadata": {
    "collapsed": true
   },
   "outputs": [],
   "source": [
    "%matplotlib inline"
   ]
  },
  {
   "cell_type": "code",
   "execution_count": 2,
   "metadata": {
    "collapsed": false
   },
   "outputs": [],
   "source": [
    "import numpy as np\n",
    "from scipy.integrate import simps, cumtrapz\n",
    "import bottleneck as fst\n",
    "import pylab as plt\n",
    "from time import clock"
   ]
  },
  {
   "cell_type": "markdown",
   "metadata": {},
   "source": [
    "### Trapezoidal Rule"
   ]
  },
  {
   "cell_type": "code",
   "execution_count": 5,
   "metadata": {
    "collapsed": true
   },
   "outputs": [],
   "source": [
    "ndivs = 500\n",
    "ntimes = 2000\n",
    "\n",
    "def trpzsum1(f,a,b,divs=100):\n",
    "    sum = -(f(b)-f(a))/2.0\n",
    "    for x in np.linspace(a,b):\n",
    "        sum += f(x)\n",
    "    return sum*(b-a)/divs\n",
    "    \n",
    "def trpzsum2(f,a,b,divs=100):\n",
    "    sum = -(f(b)-f(a))/2.0 + fst.nansum(f(np.linspace(a,b,divs)))\n",
    "    return sum*(b-a)/divs"
   ]
  },
  {
   "cell_type": "code",
   "execution_count": 8,
   "metadata": {
    "collapsed": false
   },
   "outputs": [
    {
     "name": "stdout",
     "output_type": "stream",
     "text": [
      "with loop, walltime:  0.31916699999999976\n",
      "with comprehension, walltime:  0.11978299999999997\n",
      "with scipy routines (direct call), walltime:  0.16697499999999987\n"
     ]
    }
   ],
   "source": [
    "tic = clock()\n",
    "for k in range(ntimes):\n",
    "    trpzsum1(np.sin,0,np.pi,divs=ndivs)\n",
    "print(\"with loop, walltime: \", clock()-tic)\n",
    "\n",
    "tic = clock()\n",
    "for k in range(ntimes):\n",
    "    trpzsum2(np.sin,0,np.pi,divs=ndivs)\n",
    "print(\"with comprehension, walltime: \", clock()-tic)\n",
    "\n",
    "tic = clock()\n",
    "for k in range(ntimes):\n",
    "    cumtrapz(np.sin(np.linspace(0.,np.pi,ndivs)))*np.pi/ndivs\n",
    "print(\"with scipy routines (direct call), walltime: \", clock()-tic)"
   ]
  },
  {
   "cell_type": "markdown",
   "metadata": {},
   "source": [
    "## Simpson rule"
   ]
  },
  {
   "cell_type": "code",
   "execution_count": 40,
   "metadata": {
    "collapsed": true
   },
   "outputs": [],
   "source": [
    "def smpssum(f,a,b,divs=100):\n",
    "    oddsum = fst.nansum(f(np.linspace(a,b,divs)[1:-1:2]))\n",
    "    evensum = fst.nansum(f(np.linspace(a,b,divs)[2:-1:2]))\n",
    "    return (f(a)+f(b)+4*oddsum+2*evensum)*(b-a)/(3*divs)"
   ]
  },
  {
   "cell_type": "code",
   "execution_count": 41,
   "metadata": {
    "collapsed": false
   },
   "outputs": [
    {
     "name": "stdout",
     "output_type": "stream",
     "text": [
      "CPU times: user 0 ns, sys: 0 ns, total: 0 ns\n",
      "Wall time: 277 µs\n"
     ]
    },
    {
     "data": {
      "text/plain": [
       "1.9959934070735332"
      ]
     },
     "execution_count": 41,
     "metadata": {},
     "output_type": "execute_result"
    }
   ],
   "source": [
    "%%time\n",
    "smpssum(np.sin,0.0,np.pi,500)"
   ]
  },
  {
   "cell_type": "markdown",
   "metadata": {},
   "source": [
    "## Adaptive trapezoidal rule"
   ]
  },
  {
   "cell_type": "code",
   "execution_count": 14,
   "metadata": {
    "collapsed": false
   },
   "outputs": [],
   "source": [
    "def oddsum(f,a,b,divs):\n",
    "    return fst.nansum(f(np.linspace(a,b,divs)[1:-1:2]))\n",
    "\n",
    "def adaptivetrpz(f,a,b,err=1e-3):\n",
    "    divs = 32\n",
    "    itermax = 20\n",
    "    \n",
    "    divmax = divs*2**itermax\n",
    "    \n",
    "    I = (.5*f(a)+.5*f(b)+fst.nansum(f(np.linspace(a,b,divs))))*(b-a)/divs\n",
    "    \n",
    "    divs *= 2\n",
    "    J = I/2.0 + oddsum(f,a,b,divs)\n",
    "    \n",
    "    while abs(I-J)/3.0 > err:\n",
    "        if divs > divmax:\n",
    "            break\n",
    "            print(\"WARNING: Maximum number of iterations reached\")\n",
    "        I, J = J, I\n",
    "        \n",
    "        divs *= 2\n",
    "        J = I/2.0 + oddsum(f,a,b,divs)*(b-a)/divs\n",
    "    \n",
    "    return I, abs(I-J)/3.0\n",
    "        "
   ]
  },
  {
   "cell_type": "code",
   "execution_count": 16,
   "metadata": {
    "collapsed": false
   },
   "outputs": [
    {
     "data": {
      "text/plain": [
       "(2.0000357059688625, 5.9559618676985338e-06)"
      ]
     },
     "execution_count": 16,
     "metadata": {},
     "output_type": "execute_result"
    }
   ],
   "source": [
    "adaptivetrpz(np.sin,0.0,np.pi,err=1e-5)"
   ]
  },
  {
   "cell_type": "markdown",
   "metadata": {},
   "source": [
    "## Adaptive Simpson rule"
   ]
  },
  {
   "cell_type": "code",
   "execution_count": null,
   "metadata": {
    "collapsed": true
   },
   "outputs": [],
   "source": [
    "def evensum(f,a,b,divs):\n",
    "    return fst.nansum(f(np.linspace(a,b,divs)[2:-1:2]))\n",
    "\n",
    "def adaptivesmps(f,a,b,err=1e-4):\n",
    "    divs = 32\n",
    "    itermax = 20\n",
    "    \n",
    "    divmax = divs*2^itermax\n",
    "    \n",
    "    S = evensum(f,a,b,divs)/3.0\n",
    "    R = oddsum(f,a,b,divs)*2.0/3.0\n",
    "    I = (S+T)*(b-a)/divs\n",
    "    \n",
    "    divs *= 2\n",
    "    S += R"
   ]
  },
  {
   "cell_type": "code",
   "execution_count": 9,
   "metadata": {
    "collapsed": false
   },
   "outputs": [
    {
     "data": {
      "image/png": "[encoded data removed]",
      "text/plain": [
       "<matplotlib.figure.Figure at 0x7f7a7e87f8d0>"
      ]
     },
     "metadata": {},
     "output_type": "display_data"
    },
    {
     "data": {
      "text/plain": [
       "<function matplotlib.pyplot.close>"
      ]
     },
     "execution_count": 9,
     "metadata": {},
     "output_type": "execute_result"
    }
   ],
   "source": [
    "def besselJ(j,x,divs=99):\n",
    "    def f(j,x,theta): return np.cos(j*theta-x*np.sin(theta))\n",
    "    h = np.pi/divs\n",
    "    oddSum = fst.nansum([f(j,x,h*n) for n in range(1,divs) if n%2 == 1])\n",
    "    evenSum = fst.nansum([f(j,x,h*n) for n in range(1,divs) if n%2 == 0])\n",
    "    return (f(1,x,0)+f(1,x,np.pi)+4*evenSum+2*oddSum)/(3*divs)\n",
    "\n",
    "x = np.linspace(0.0,20.0,1000)\n",
    "plt.figure(\"bessel_function\")\n",
    "for i in range(3):\n",
    "    plt.plot(x,[besselJ(i,z) for z in x])\n",
    "plt.show()\n",
    "plt.close"
   ]
  },
  {
   "cell_type": "code",
   "execution_count": 5,
   "metadata": {
    "collapsed": false
   },
   "outputs": [],
   "source": [
    "def intensity(x,y,k=1.0):\n",
    "    r = np.sqrt(x*x+y*y)\n",
    "    return (besselJ(1,r*k)/(r*k))**2\n",
    "\n",
    "l = 1.0\n",
    "pts = 100\n",
    "side = np.linspace(-l,l,pts)\n",
    "x = np.empty([pts,pts])\n",
    "z = np.empty([pts,pts])\n",
    "for i in range(pts):\n",
    "    for j in range(pts):\n",
    "        x[i][j] = side[i]\n",
    "        z[i][j] = intensity(side[i],side[j],k=4*np.pi)"
   ]
  },
  {
   "cell_type": "code",
   "execution_count": 104,
   "metadata": {
    "collapsed": false,
    "scrolled": true
   },
   "outputs": [
    {
     "data": {
      "text/plain": [
       "<matplotlib.colorbar.Colorbar at 0x7f8164c40d30>"
      ]
     },
     "execution_count": 104,
     "metadata": {},
     "output_type": "execute_result"
    },
    {
     "data": {
      "image/png": "[encoded data removed]",
      "text/plain": [
       "<matplotlib.figure.Figure at 0x7f8164cea6d8>"
      ]
     },
     "metadata": {},
     "output_type": "display_data"
    }
   ],
   "source": [
    "plt.pcolormesh(x,np.transpose(x),z,cmap='hot')\n",
    "plt.colorbar()"
   ]
  },
  {
   "cell_type": "code",
   "execution_count": 10,
   "metadata": {
    "collapsed": false
   },
   "outputs": [
    {
     "data": {
      "text/plain": [
       "[<matplotlib.lines.Line2D at 0x7f7a7e852ac8>]"
      ]
     },
     "execution_count": 10,
     "metadata": {},
     "output_type": "execute_result"
    },
    {
     "data": {
      "image/png": "[encoded data removed]",
      "text/plain": [
       "<matplotlib.figure.Figure at 0x7f7a7e6e1a90>"
      ]
     },
     "metadata": {},
     "output_type": "display_data"
    }
   ],
   "source": [
    "xx = np.linspace(0.001,1,1000)\n",
    "plt.plot(xx,[intensity(z,0,k=4*np.pi) for z in xx])"
   ]
  },
  {
   "cell_type": "code",
   "execution_count": 22,
   "metadata": {
    "collapsed": false
   },
   "outputs": [
    {
     "data": {
      "text/plain": [
       "<matplotlib.colorbar.Colorbar at 0x7f77b2701d68>"
      ]
     },
     "execution_count": 22,
     "metadata": {},
     "output_type": "execute_result"
    },
    {
     "data": {
      "image/png": "[encoded data removed]",
      "text/plain": [
       "<matplotlib.figure.Figure at 0x7f77b272e6a0>"
      ]
     },
     "metadata": {},
     "output_type": "display_data"
    }
   ],
   "source": [
    "from scipy.special import j1\n",
    "\n",
    "side = np.linspace(-1,1,500)\n",
    "x, y = plt.meshgrid(side,side)\n",
    "k = 4*np.pi\n",
    "r = np.sqrt(x**2+y**2)\n",
    "z = (j1(k*r)/(k*r))**2\n",
    "plt.pcolormesh(x,y,z,cmap='hot')\n",
    "plt.colorbar()\n"
   ]
  },
  {
   "cell_type": "code",
   "execution_count": null,
   "metadata": {
    "collapsed": true
   },
   "outputs": [],
   "source": []
  }
 ],
 "metadata": {
  "kernelspec": {
   "display_name": "Python 3",
   "language": "python",
   "name": "python3"
  },
  "language_info": {
   "codemirror_mode": {
    "name": "ipython",
    "version": 3
   },
   "file_extension": ".py",
   "mimetype": "text/x-python",
   "name": "python",
   "nbconvert_exporter": "python",
   "pygments_lexer": "ipython3",
   "version": "3.5.1"
  },
  "latex_envs": {
   "bibliofile": "biblio.bib",
   "cite_by": "apalike",
   "current_citInitial": 1,
   "eqLabelWithNumbers": true,
   "eqNumInitial": 0
  },
  "toc": {
   "toc_cell": false,
   "toc_number_sections": false,
   "toc_threshold": 4,
   "toc_window_display": false
  }
 },
 "nbformat": 4,
 "nbformat_minor": 0
}
