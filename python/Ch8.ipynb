{
 "cells": [
  {
   "cell_type": "code",
   "execution_count": 1,
   "metadata": {
    "collapsed": true
   },
   "outputs": [],
   "source": [
    "import numpy as np\n",
    "from math import sin\n",
    "import matplotlib.pylab as plt\n",
    "%matplotlib inline"
   ]
  },
  {
   "cell_type": "code",
   "execution_count": 2,
   "metadata": {
    "collapsed": false
   },
   "outputs": [],
   "source": [
    "def euler(f,f0,a,b,h):\n",
    "    \n",
    "    n = int((b-a)/h)\n",
    "    x = np.empty(n)\n",
    "    \n",
    "    x[0] = f0\n",
    "    tt = np.linspace(a,b,n)\n",
    "    for i, t in enumerate(tt[:-1]):\n",
    "        x[i+1] = x[i] + h*f(x[i],t)\n",
    "    \n",
    "    return tt,x"
   ]
  },
  {
   "cell_type": "code",
   "execution_count": 3,
   "metadata": {
    "collapsed": false,
    "scrolled": true
   },
   "outputs": [
    {
     "data": {
      "text/plain": [
       "[<matplotlib.lines.Line2D at 0x7f1ac8596d68>]"
      ]
     },
     "execution_count": 3,
     "metadata": {},
     "output_type": "execute_result"
    },
    {
     "data": {
      "image/png": "[encoded data removed]",
      "text/plain": [
       "<matplotlib.figure.Figure at 0x7f1ac85b5128>"
      ]
     },
     "metadata": {},
     "output_type": "display_data"
    }
   ],
   "source": [
    "t,x = euler(lambda x,t: -x*x*x+sin(t), 0, 0, 10, 0.5)\n",
    "plt.plot(t,x)"
   ]
  },
  {
   "cell_type": "code",
   "execution_count": 4,
   "metadata": {
    "collapsed": true
   },
   "outputs": [],
   "source": [
    "def rungekutta1(f,f0,a,b,h):\n",
    "    \n",
    "    n = int((b-a)/h)\n",
    "    x = np.empty(n)\n",
    "    \n",
    "    x[0] = f0\n",
    "    tt = np.linspace(a,b,n)\n",
    "    for i, t in enumerate(tt[:-1]):\n",
    "        k1 = h*f(x[i],t) \n",
    "        k2 = h*f(x[i]+0.5*k1,t+0.5*h)\n",
    "        x[i+1] = x[i] + k2\n",
    "    \n",
    "    return tt,x"
   ]
  },
  {
   "cell_type": "code",
   "execution_count": 5,
   "metadata": {
    "collapsed": false,
    "scrolled": true
   },
   "outputs": [
    {
     "data": {
      "text/plain": [
       "[<matplotlib.lines.Line2D at 0x7f1ac84b1e48>]"
      ]
     },
     "execution_count": 5,
     "metadata": {},
     "output_type": "execute_result"
    },
    {
     "data": {
      "image/png": "[encoded data removed]",
      "text/plain": [
       "<matplotlib.figure.Figure at 0x7f1ac85d3f98>"
      ]
     },
     "metadata": {},
     "output_type": "display_data"
    }
   ],
   "source": [
    "t,x = rungekutta1(lambda x,t: -x*x*x+sin(t), 0, 0, 10, 0.5)\n",
    "plt.plot(t,x)"
   ]
  },
  {
   "cell_type": "code",
   "execution_count": 6,
   "metadata": {
    "collapsed": true
   },
   "outputs": [],
   "source": [
    "def rungekutta4(f,f0,a,b,h):\n",
    "    \n",
    "    n = int((b-a)/h)\n",
    "    x = np.empty(n)\n",
    "    \n",
    "    x[0] = f0\n",
    "    tt = np.linspace(a,b,n)\n",
    "    for i, t in enumerate(tt[:-1]):\n",
    "        k1 = h*f(x[i],t)\n",
    "        k2 = h*f(x[i]+0.5*k1,t+0.5*h)\n",
    "        k3 = h*f(x[i]+0.5*k2,t+0.5*h)\n",
    "        k4 = h*f(x[i]+k3,t+h)\n",
    "        x[i+1] = x[i] + (k1+2*k2+2*k3+k4)/6.0\n",
    "    \n",
    "    return tt,x"
   ]
  },
  {
   "cell_type": "code",
   "execution_count": 7,
   "metadata": {
    "collapsed": false,
    "scrolled": true
   },
   "outputs": [
    {
     "data": {
      "text/plain": [
       "20"
      ]
     },
     "execution_count": 7,
     "metadata": {},
     "output_type": "execute_result"
    },
    {
     "data": {
      "image/png": "[encoded data removed]",
      "text/plain": [
       "<matplotlib.figure.Figure at 0x7f1ac84d1128>"
      ]
     },
     "metadata": {},
     "output_type": "display_data"
    }
   ],
   "source": [
    "t,x = rungekutta4(lambda x,t: -x*x*x+sin(t), 0, 0, 10, 0.5)\n",
    "plt.plot(t,x)\n",
    "t.size"
   ]
  },
  {
   "cell_type": "markdown",
   "metadata": {},
   "source": [
    "From [here](http://stackoverflow.com/questions/15209552/python-functions-within-lists)\n",
    "\n",
    "You can create anonymous functions using the lambda keyword.\n",
    "\n",
    "```python\n",
    "def func(x,keyword='bar'):\n",
    "    return (x,keyword)\n",
    "```\n",
    "is roughly equivalent to:\n",
    "\n",
    "```python\n",
    "func = lambda x,keyword='bar':(x,keyword)\n",
    "```\n",
    "So, if you want to create a list with functions in it:\n",
    "\n",
    "```python\n",
    "my_list = [lambda x:x**2,lambda x:x**3]\n",
    "print my_list[0](2)  #4\n",
    "print my_list[1](2) \n",
    "```"
   ]
  },
  {
   "cell_type": "markdown",
   "metadata": {},
   "source": [
    "From [here](http://stackoverflow.com/questions/11345765/numpy-apply-an-array-of-functions-to-a-same-length-2d-array-of-value-as-if-mult)\n",
    "\n",
    "As Sven Marnach reminded me, the array you've created is probably an array of Python objects. Any operation on them will likely be much slower than pure numpy operations. However, you can do what you've asked pretty easily, as long as you don't actually expect this to be very fast! It's not too different from what AFoglia suggested, but it's closer to being exactly what you asked for:\n",
    "\n",
    "```python\n",
    ">>> a = numpy.array([[ 1, 2.0, \"three\"],\n",
    "...                  [ 4, 5.0, \"six\"  ]], dtype=object)\n",
    ">>> funcs = [lambda x: x + 10, lambda x: x / 2, lambda x: x + '!']\n",
    ">>> apply_vectorized = numpy.vectorize(lambda f, x: f(x), otypes=[object])\n",
    ">>> apply_vectorized(funcs, a)\n",
    "array([[11, 1.0, three!],\n",
    "       [14, 2.5, six!]], dtype=object)\n",
    "```\n",
    "\n",
    "Also echoing AFoglia here, there's a good chance you'd be better off using a record array -- this allows you to divide the array up as you like, and work with it in a more natural way using numpy ufuncs -- which are much faster than Python functions, generally:\n",
    "\n",
    "```python\n",
    "rec.array([(1, 2.0, 'three'), (4, 5.0, 'six')], \n",
    "      dtype=[('int', '<i8'), ('float', '<f8'), ('str', '|S10')])\n",
    ">>> a['int']\n",
    "array([1, 4])\n",
    ">>> a['float']\n",
    "array([ 2.,  5.])\n",
    ">>> a['str']\n",
    "rec.array(['three', 'six'], \n",
    "      dtype='|S10')\n",
    ">>> a['int'] += 10\n",
    ">>> a['int']\n",
    "array([11, 14])\n",
    "```"
   ]
  },
  {
   "cell_type": "code",
   "execution_count": 10,
   "metadata": {
    "collapsed": false
   },
   "outputs": [],
   "source": [
    "def nextPoint(f,x,t,h):\n",
    "    k1 = h*f(x,t)\n",
    "    k2 = h*f(x+0.5*k1,t+0.5*h)\n",
    "    k3 = h*f(x+0.5*k2,t+0.5*h)\n",
    "    k4 = h*f(x+k3,t+h)\n",
    "    return x + (k1+2*k2+2*k3+k4)/6.0    \n",
    "\n",
    "def adaptive_rungekutta4(f,f0,a,b,d):\n",
    "\n",
    "    eps = d*1e-3\n",
    "    \n",
    "    h = d**0.25\n",
    "    x = f0\n",
    "    xx = [x]\n",
    "    t = a\n",
    "    tt = [t]\n",
    "    \n",
    "    while t+2*h < b:\n",
    "        \n",
    "        x1 = nextPoint(f,x,t,h)\n",
    "        x2 = nextPoint(f,x1,t,h)\n",
    "        x3 = nextPoint(f,x,t,2*h)\n",
    "        \n",
    "        r = min(30.0*h*d/max(abs(x3-x2),eps),16.0)            \n",
    "        \n",
    "        while r < 1:\n",
    "            h /= 2 \n",
    "            x1 = nextPoint(f,x,t,h)\n",
    "            x2 = nextPoint(f,x1,t,h)\n",
    "            x3 = nextPoint(f,x,t,2*h)\n",
    "            \n",
    "            r = min(30.0*h*d/max(abs(x3-x2),eps),16.0)            \n",
    "        \n",
    "        h *= r**0.25\n",
    "        x = x2 + (x2-x3)/15.0\n",
    "        t += 2*h\n",
    "        xx.append(x)\n",
    "        tt.append(t)\n",
    "        \n",
    "    xx.append(nextPoint(f,x,t,b-t))\n",
    "    tt.append(b)\n",
    "            \n",
    "    return np.array(tt), np.array(xx)"
   ]
  },
  {
   "cell_type": "code",
   "execution_count": 11,
   "metadata": {
    "collapsed": false,
    "scrolled": true
   },
   "outputs": [
    {
     "data": {
      "text/plain": [
       "11416"
      ]
     },
     "execution_count": 11,
     "metadata": {},
     "output_type": "execute_result"
    },
    {
     "data": {
      "image/png": "[encoded data removed]",
      "text/plain": [
       "<matplotlib.figure.Figure at 0x7f1ac8518ef0>"
      ]
     },
     "metadata": {},
     "output_type": "display_data"
    }
   ],
   "source": [
    "t,x = adaptive_rungekutta4(lambda x,t: -x*x*x+sin(t), 0, 0, 10, 0.00001)\n",
    "plt.plot(t,x)\n",
    "t.size"
   ]
  },
  {
   "cell_type": "code",
   "execution_count": null,
   "metadata": {
    "collapsed": true
   },
   "outputs": [],
   "source": []
  }
 ],
 "metadata": {
  "kernelspec": {
   "display_name": "Python 3",
   "language": "python",
   "name": "python3"
  },
  "language_info": {
   "codemirror_mode": {
    "name": "ipython",
    "version": 3
   },
   "file_extension": ".py",
   "mimetype": "text/x-python",
   "name": "python",
   "nbconvert_exporter": "python",
   "pygments_lexer": "ipython3",
   "version": "3.5.1"
  },
  "latex_envs": {
   "bibliofile": "biblio.bib",
   "cite_by": "apalike",
   "current_citInitial": 1,
   "eqLabelWithNumbers": true,
   "eqNumInitial": 0
  }
 },
 "nbformat": 4,
 "nbformat_minor": 0
}
